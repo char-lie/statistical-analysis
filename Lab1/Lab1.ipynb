{
 "cells": [
  {
   "cell_type": "code",
   "execution_count": 1,
   "metadata": {
    "collapsed": false
   },
   "outputs": [],
   "source": [
    "%matplotlib inline\n",
    "import matplotlib.pyplot as plt\n",
    "from mpl_toolkits.mplot3d import Axes3D\n",
    "import pylab\n",
    "from numpy import loadtxt, corrcoef, delete, array, concatenate, vstack, ones, triu, where\n",
    "from numpy.linalg import lstsq\n",
    "from scipy.stats import f"
   ]
  },
  {
   "cell_type": "code",
   "execution_count": 2,
   "metadata": {
    "collapsed": true
   },
   "outputs": [],
   "source": [
    "BIG_CORRELATION = 0.9\n",
    "SIGNIFICANCE = 0.05\n",
    "MAX_POW = 2"
   ]
  },
  {
   "cell_type": "code",
   "execution_count": 3,
   "metadata": {
    "collapsed": false
   },
   "outputs": [],
   "source": [
    "dataset = loadtxt('lab1.csv', skiprows=1, delimiter=',')\n",
    "# y = dataset[2:, 0]\n",
    "# xs = dataset[2:, 1:].transpose()\n",
    "y = dataset[:, 0]\n",
    "xs = dataset[:, 1:].transpose()\n",
    "regression_coefficients = []"
   ]
  },
  {
   "cell_type": "code",
   "execution_count": 4,
   "metadata": {
    "collapsed": false
   },
   "outputs": [],
   "source": [
    "worst_pairs = where(triu(abs(corrcoef(xs)), 1) > BIG_CORRELATION)\n",
    "correlations = abs(corrcoef(y, xs))[0][1:]\n",
    "worst = [i if correlations[i] < correlations[j] else j for i, j in zip(*worst_pairs)]\n",
    "xs = delete(xs, worst, axis=0)"
   ]
  },
  {
   "cell_type": "code",
   "execution_count": 5,
   "metadata": {
    "collapsed": false
   },
   "outputs": [
    {
     "data": {
      "text/plain": [
       "(14, 40)"
      ]
     },
     "execution_count": 5,
     "metadata": {},
     "output_type": "execute_result"
    }
   ],
   "source": [
    "# accum = [array([y]), xs]\n",
    "accum = [xs]\n",
    "last = xs\n",
    "for i in range(MAX_POW-1):\n",
    "    last = [last[i]*xs[i:] for i in range(xs.shape[0])]\n",
    "    accum += last\n",
    "sequences = concatenate(accum); sequences.shape"
   ]
  },
  {
   "cell_type": "code",
   "execution_count": 6,
   "metadata": {
    "collapsed": true
   },
   "outputs": [],
   "source": [
    "def get_residuum(y, regressors, coefficients):\n",
    "    return y - array([c * r for c, r in zip(regressors, coefficients)]).sum(axis=0)"
   ]
  },
  {
   "cell_type": "code",
   "execution_count": 7,
   "metadata": {
    "collapsed": false
   },
   "outputs": [],
   "source": [
    "def get_coeffs(y, regressors, coefficients, sequences):\n",
    "    residuum = get_residuum(y, regressors, coefficients)\n",
    "    A = vstack([[residuum], sequences])\n",
    "    best = abs(corrcoef(A)[0][1:]).argmax()\n",
    "    regressor = sequences[best]\n",
    "    sequences = delete(sequences, best, axis=0)\n",
    "    regressors += [regressor]\n",
    "    coefficients = lstsq(array(regressors).T, y)[0]\n",
    "    new_residuum = get_residuum(y, regressors, coefficients)\n",
    "    S = (residuum**2).sum(), (new_residuum**2).sum()\n",
    "    F = (regressor.size - len(regressors)) * (S[0] - S[1]) / S[1]\n",
    "    return regressors, coefficients, sequences, F"
   ]
  },
  {
   "cell_type": "code",
   "execution_count": 8,
   "metadata": {
    "collapsed": false,
    "scrolled": true
   },
   "outputs": [
    {
     "name": "stdout",
     "output_type": "stream",
     "text": [
      "0 0.999999999175\n",
      "1 0.999854075404\n",
      "2 0.998982535974\n",
      "3 0.575571623993\n",
      "4 0.550844105904\n",
      "5 0.660713829744\n",
      "6 0.999987997135\n",
      "7 0.877618006627\n",
      "8 0.595373424931\n",
      "9 0.628668525997\n",
      "10 0.254989198347\n",
      "11 1.0\n",
      "12 0.79527999615\n",
      "13 0.213176253326\n"
     ]
    }
   ],
   "source": [
    "new_sequences = sequences.copy()\n",
    "coefficients = [y.mean()]\n",
    "regressors = [ones(sequences[0].size)]\n",
    "all_coefficients = [coefficients[0]]\n",
    "all_regressors = [regressors[0]]\n",
    "for i in range(min(sequences.shape[0], y.size)):\n",
    "    regressors, coefficients, new_sequences, F = get_coeffs(y, regressors, coefficients, new_sequences)\n",
    "    all_coefficients.append(coefficients)\n",
    "    all_regressors.append(regressors[-1])\n",
    "    print(i, f.cdf(F, 1, regressors[0].size - i - 1))\n",
    "    if f.cdf(F, 1, regressors[0].size - len(regressors) + 1) < SIGNIFICANCE:\n",
    "        print('FINISH')\n",
    "        break"
   ]
  },
  {
   "cell_type": "code",
   "execution_count": 14,
   "metadata": {
    "collapsed": false
   },
   "outputs": [
    {
     "data": {
      "image/png": "[encoded data removed]",
      "text/plain": [
       "<matplotlib.figure.Figure at 0x7fe2afac9860>"
      ]
     },
     "metadata": {},
     "output_type": "display_data"
    }
   ],
   "source": [
    "a, b = all_coefficients[1]\n",
    "plt.plot(all_regressors[1], y, 'o', label='Original data')\n",
    "plt.plot(all_regressors[1], all_coefficients[0] * all_regressors[0], label='Mean line')\n",
    "plt.plot(all_regressors[1], a * all_regressors[0] + b * all_regressors[1], label='Fitted line')\n",
    "plt.legend()\n",
    "plt.show()"
   ]
  }
 ],
 "metadata": {
  "kernelspec": {
   "display_name": "Python 3",
   "language": "python",
   "name": "python3"
  },
  "language_info": {
   "codemirror_mode": {
    "name": "ipython",
    "version": 3
   },
   "file_extension": ".py",
   "mimetype": "text/x-python",
   "name": "python",
   "nbconvert_exporter": "python",
   "pygments_lexer": "ipython3",
   "version": "3.5.1"
  },
  "widgets": {
   "state": {},
   "version": "1.1.2"
  }
 },
 "nbformat": 4,
 "nbformat_minor": 0
}
