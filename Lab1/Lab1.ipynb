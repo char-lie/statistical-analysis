{
 "cells": [
  {
   "cell_type": "code",
   "execution_count": 1,
   "metadata": {
    "collapsed": false
   },
   "outputs": [],
   "source": [
    "%matplotlib inline\n",
    "import matplotlib.pyplot as plt\n",
    "from mpl_toolkits.mplot3d import Axes3D\n",
    "import pylab\n",
    "from numpy import loadtxt, corrcoef, delete, array, concatenate, vstack, ones, triu, where\n",
    "from numpy.linalg import lstsq\n",
    "from scipy.stats import f, t"
   ]
  },
  {
   "cell_type": "code",
   "execution_count": 2,
   "metadata": {
    "collapsed": true
   },
   "outputs": [],
   "source": [
    "BIG_CORRELATION = 0.9\n",
    "SIGNIFICANCE = 0.05\n",
    "MAX_POW = 2"
   ]
  },
  {
   "cell_type": "code",
   "execution_count": 3,
   "metadata": {
    "collapsed": true
   },
   "outputs": [],
   "source": [
    "def remove_worst(seq):\n",
    "    return delete(seq.flatten(), array([((seq - item)**2).sum() for item in seq]).argmax())\n",
    "    # return seq"
   ]
  },
  {
   "cell_type": "code",
   "execution_count": 4,
   "metadata": {
    "collapsed": false
   },
   "outputs": [],
   "source": [
    "dataset = loadtxt('lab1.csv', skiprows=1, delimiter=',')\n",
    "y = remove_worst(dataset[:, 0])\n",
    "xs = array([remove_worst(dataset[:, i]) for i in range(1, dataset.shape[1])])\n",
    "regression_coefficients = []"
   ]
  },
  {
   "cell_type": "code",
   "execution_count": 5,
   "metadata": {
    "collapsed": false
   },
   "outputs": [],
   "source": [
    "worst_pairs = where(triu(abs(corrcoef(xs)), 1) > BIG_CORRELATION)\n",
    "correlations = abs(corrcoef(y, xs))[0][1:]\n",
    "worst = [i if correlations[i] < correlations[j] else j for i, j in zip(*worst_pairs)]\n",
    "xs = delete(xs, worst, axis=0)"
   ]
  },
  {
   "cell_type": "code",
   "execution_count": 6,
   "metadata": {
    "collapsed": false
   },
   "outputs": [],
   "source": [
    "# accum = [array([y]), xs]\n",
    "accum = [xs]\n",
    "last = xs\n",
    "for i in range(MAX_POW-1):\n",
    "    last = [last[i]*xs[i:] for i in range(xs.shape[0])]\n",
    "    accum += last\n",
    "sequences = concatenate(accum)"
   ]
  },
  {
   "cell_type": "code",
   "execution_count": 7,
   "metadata": {
    "collapsed": true
   },
   "outputs": [],
   "source": [
    "def get_residuum(y, regressors, coefficients):\n",
    "    return y - array([c * r for c, r in zip(regressors, coefficients)]).sum(axis=0)"
   ]
  },
  {
   "cell_type": "code",
   "execution_count": 8,
   "metadata": {
    "collapsed": false
   },
   "outputs": [],
   "source": [
    "def get_coeffs(y, regressors, coefficients, sequences):\n",
    "    residuum = get_residuum(y, regressors, coefficients)\n",
    "    A = vstack([[residuum], sequences])\n",
    "    best = abs(corrcoef(A)[0][1:]).argmax()\n",
    "    regressor = sequences[best]\n",
    "    sequences = delete(sequences, best, axis=0)\n",
    "    regressors += [regressor]\n",
    "    coefficients = lstsq(array(regressors).T, y)[0]\n",
    "    new_residuum = get_residuum(y, regressors, coefficients)\n",
    "    S = (residuum**2).sum(), (new_residuum**2).sum()\n",
    "    F = (regressor.size - len(regressors)) * (S[0] - S[1]) / S[1]\n",
    "    print('F', F)\n",
    "    return regressors, coefficients, sequences, F"
   ]
  },
  {
   "cell_type": "code",
   "execution_count": 9,
   "metadata": {
    "collapsed": false,
    "scrolled": false
   },
   "outputs": [
    {
     "name": "stdout",
     "output_type": "stream",
     "text": [
      "F 16.2704872732\n",
      "Step 0\n",
      "F 18.4145428523\n",
      "Step 1\n",
      "F 207.709162906\n",
      "Step 2\n",
      "F 2.73588113143\n",
      "Step 3\n",
      "FINISH\n"
     ]
    }
   ],
   "source": [
    "new_sequences = sequences.copy()\n",
    "coefficients = [y.mean()]\n",
    "regressors = [ones(sequences[0].size)]\n",
    "all_coefficients = [coefficients[0]]\n",
    "all_regressors = [regressors[0]]\n",
    "for i in range(min(sequences.shape[0], y.size)):\n",
    "    regressors, coefficients, new_sequences, F = get_coeffs(y, regressors, coefficients, new_sequences)\n",
    "    all_coefficients.append(coefficients)\n",
    "    all_regressors.append(regressors[-1])\n",
    "    #print('Step {:0>2}: tail probability is {:05.2f}% (>={:05.2f}% needed)'.format(\n",
    "    #    i, 100 * (1 - f.cdf(F, 1, regressors[0].size - i - 1)), 100 * (1 - SIGNIFICANCE)))\n",
    "    print('Step', i)\n",
    "    # if f.cdf(F, 1, regressors[0].size - len(regressors) + 1) < SIGNIFICANCE:\n",
    "    if F < 4.2:\n",
    "        print('FINISH')\n",
    "        break\n",
    "else:\n",
    "    print('Best solution not found')"
   ]
  },
  {
   "cell_type": "code",
   "execution_count": 10,
   "metadata": {
    "collapsed": false
   },
   "outputs": [
    {
     "data": {
      "image/png": "[encoded data removed]",
      "text/plain": [
       "<matplotlib.figure.Figure at 0x7f63c2ef8550>"
      ]
     },
     "metadata": {},
     "output_type": "display_data"
    }
   ],
   "source": [
    "a, b = all_coefficients[1]\n",
    "plt.plot(all_regressors[1], y, 'o', label='Original data')\n",
    "plt.plot(all_regressors[1], all_coefficients[0] * all_regressors[0], label='Mean line')\n",
    "plt.plot(all_regressors[1], a * all_regressors[0] + b * all_regressors[1], label='Fitted line')\n",
    "plt.legend()\n",
    "plt.show()"
   ]
  },
  {
   "cell_type": "code",
   "execution_count": 11,
   "metadata": {
    "collapsed": false
   },
   "outputs": [
    {
     "data": {
      "text/plain": [
       "array([ 19.5      ,   3.1900975,   1.6025   ,   4.148282 ,   1.4187745])"
      ]
     },
     "execution_count": 11,
     "metadata": {},
     "output_type": "execute_result"
    }
   ],
   "source": [
    "student = array([s for s in all_coefficients[-1] / (((array(all_regressors)**2)/(len(all_regressors)-1))**.5).sum(axis=1)])\n",
    "student\n",
    "#all_coefficients[-1] / (((array(all_regressors)**2)/(len(all_regressors)-1))**.5)\n",
    "((array(all_regressors).sum(axis=1)**2)/(len(all_regressors)-1))**.5"
   ]
  },
  {
   "cell_type": "code",
   "execution_count": 12,
   "metadata": {
    "collapsed": false
   },
   "outputs": [],
   "source": [
    "residuum = get_residuum(y, all_regressors, all_coefficients[-1])\n",
    "last_regressors = delete(all_regressors, 4, axis=0)\n",
    "last_coefficients = lstsq(array(last_regressors).T, y)[0]\n",
    "new_residuum = get_residuum(y, last_regressors, last_coefficients)"
   ]
  },
  {
   "cell_type": "code",
   "execution_count": 13,
   "metadata": {
    "collapsed": false
   },
   "outputs": [
    {
     "data": {
      "text/plain": [
       "0.90014009536405459"
      ]
     },
     "execution_count": 13,
     "metadata": {},
     "output_type": "execute_result"
    }
   ],
   "source": [
    "array([t.cdf(s, len(last_regressors[0]) - len(last_regressors)) for s in last_coefficients / (((array(last_regressors)**2)/len(last_regressors))**.5).sum(axis=1)]).max()"
   ]
  },
  {
   "cell_type": "code",
   "execution_count": 15,
   "metadata": {
    "collapsed": false
   },
   "outputs": [
    {
     "data": {
      "text/plain": [
       "-11.320102286098273"
      ]
     },
     "execution_count": 15,
     "metadata": {},
     "output_type": "execute_result"
    }
   ],
   "source": [
    "S = (residuum**2).sum(), (new_residuum**2).sum()\n",
    "F = (last_regressors.size - len(last_regressors)) * (S[0] - S[1]) / S[1]\n",
    "F"
   ]
  }
 ],
 "metadata": {
  "kernelspec": {
   "display_name": "Python 3",
   "language": "python",
   "name": "python3"
  },
  "language_info": {
   "codemirror_mode": {
    "name": "ipython",
    "version": 3
   },
   "file_extension": ".py",
   "mimetype": "text/x-python",
   "name": "python",
   "nbconvert_exporter": "python",
   "pygments_lexer": "ipython3",
   "version": "3.5.1"
  },
  "widgets": {
   "state": {},
   "version": "1.1.2"
  }
 },
 "nbformat": 4,
 "nbformat_minor": 0
}
