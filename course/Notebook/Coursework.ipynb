{
 "cells": [
  {
   "cell_type": "markdown",
   "metadata": {},
   "source": [
    "# Input\n",
    "\n",
    "Time series $Z$ mixed with noise\n",
    "$$Y = Z + E,$$\n",
    "where $E$ is a whitenoise\n",
    "$$\n",
    "cov(E_i, E_j) =\n",
    "\\begin{cases}\n",
    "\\sigma_e^2,& i = j \\\\\n",
    "0,&          i \\neq j\n",
    "\\end{cases} \n",
    "$$\n",
    "\n",
    "$Z$ depends on $X_i, i = 1..6$ time series.\n",
    "\n",
    "# Task\n",
    "- Find and remove anomalies in $Y$\n",
    "- Create regression model $\\mu$: $Z = \\mu\\left( X \\right)$\n",
    "- Find prediction for three more values of $Z$ by\n",
    "  - extrapolation of $Z$\n",
    "  - model $\\mu\\left( X \\right)$ and prediction of $X$\n",
    "- Estimate prediction errors\n",
    "- Choose the best prediction\n",
    "\n",
    "# Tools\n",
    "- [Exponential smoothing](https://en.wikipedia.org/wiki/Exponential_smoothing)\n",
    "- [Autoregressive model](https://en.wikipedia.org/wiki/Autoregressive_model)"
   ]
  }
 ],
 "metadata": {
  "kernelspec": {
   "display_name": "Python 3",
   "language": "python",
   "name": "python3"
  },
  "language_info": {
   "codemirror_mode": {
    "name": "ipython",
    "version": 3
   },
   "file_extension": ".py",
   "mimetype": "text/x-python",
   "name": "python",
   "nbconvert_exporter": "python",
   "pygments_lexer": "ipython3",
   "version": "3.5.1"
  },
  "widgets": {
   "state": {},
   "version": "1.1.2"
  }
 },
 "nbformat": 4,
 "nbformat_minor": 0
}
